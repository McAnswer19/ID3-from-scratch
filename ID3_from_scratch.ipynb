{
 "cells": [
  {
   "cell_type": "markdown",
   "metadata": {},
   "source": [
    "# ID3 decison tree from scratch\n",
    "\n",
    "Below is a class assignment where we had to implement a machine learning algorithm from a scratch, and I choose a vanilla ID3 decision tree. It is only good for toy problems, but it is a good demonstration of the concepts, and it may be useful to someone coming to data science from a software engineering background. "
   ]
  },
  {
   "cell_type": "markdown",
   "metadata": {},
   "source": [
    "### The Import Block"
   ]
  },
  {
   "cell_type": "code",
   "execution_count": 1,
   "metadata": {
    "ExecuteTime": {
     "end_time": "2019-06-07T12:10:14.386090Z",
     "start_time": "2019-06-07T12:10:13.484485Z"
    }
   },
   "outputs": [],
   "source": [
    "%matplotlib inline\n",
    "import numpy as np\n",
    "\n",
    "from sklearn import datasets as ds\n",
    "from sklearn.decomposition import PCA\n",
    "from sklearn import preprocessing\n",
    "\n",
    "import matplotlib.pyplot as plt"
   ]
  },
  {
   "cell_type": "markdown",
   "metadata": {},
   "source": [
    "### Some Useful functions"
   ]
  },
  {
   "cell_type": "code",
   "execution_count": 2,
   "metadata": {
    "ExecuteTime": {
     "end_time": "2019-06-07T12:10:14.408979Z",
     "start_time": "2019-06-07T12:10:14.403995Z"
    }
   },
   "outputs": [],
   "source": [
    "def calculate_entropy(y):\n",
    "   #  y is an n X 1 sized matrix where n is the number of data points (targets). The return is a scalar.\n",
    "   # ....I'm assuming he wants the entropy of the empirical distribution? \n",
    "    \n",
    "    number_of_datapoints = len(y)\n",
    "    list_of_classes = np.unique(y)  # list of each outcome type.\n",
    "    total_entropy = 0 \n",
    "    \n",
    "    # counts for each outcome class. We use broadcasting and list comprehensions to get the total counts for each class. \n",
    "    counts = [y == a for a in list_of_classes]       \n",
    "    counts = np.array([counts[i].sum() for i in range(len(list_of_classes))])\n",
    "    counts = counts/number_of_datapoints                 # counts then normalized against total # of datapoints. \n",
    "    \n",
    "    inverse_counts = 1/counts\n",
    "    total_entropy += np.log2(inverse_counts) * counts\n",
    "    total_entropy = total_entropy.sum()\n",
    "    return (total_entropy)"
   ]
  },
  {
   "cell_type": "code",
   "execution_count": 3,
   "metadata": {
    "ExecuteTime": {
     "end_time": "2019-06-07T12:10:14.431918Z",
     "start_time": "2019-06-07T12:10:14.426932Z"
    }
   },
   "outputs": [],
   "source": [
    "def find_split(x, y):\n",
    "    \n",
    "    \"\"\"Given a dataset and its target values, this finds the optimal combination\n",
    "    of feature and split point that gives the maximum information gain.\"\"\"\n",
    "    \n",
    "    # Need the starting entropy so we can measure improvement...\n",
    "    pre_split = calculate_entropy(y)\n",
    "    \n",
    "    \n",
    "    best = {'infogain' : -np.inf}              # Best thus far, initialised to a dud that will be replaced immediately..\n",
    "    max_indice = len(x) - 1                    # highest indice in the feature table. \n",
    "    total_datapoints = len(x)                  # total number of datapoints in the feature table. \n",
    "    \n",
    "    \n",
    "    \n",
    "    # Loop every possible split of every dimension...\n",
    "    for i in range(x.shape[1]):\n",
    "        for split in np.unique(x[:,i]):\n",
    "            \n",
    "            # separating indices into left and right for each data point . \n",
    "            left_indices  = [j for j in range(0, max_indice) if x[j, i] <= split ]\n",
    "            right_indices = [j for j in range(0, max_indice) if x[j ,i] > split ]\n",
    "            \n",
    "            # weighted entropy for each side of the split. \n",
    "            left_side = (len(left_indices)/total_datapoints) * calculate_entropy(y[left_indices])\n",
    "            right_side = (len(right_indices)/total_datapoints) * calculate_entropy(y[right_indices])\n",
    "            \n",
    "            # information gain. \n",
    "            infogain = pre_split - (left_side + right_side)\n",
    "            \n",
    "            # **************************************************************** 5 marks\n",
    "            \n",
    "            if infogain > best['infogain']:\n",
    "                best = {'feature' : i,\n",
    "                        'split' : split,\n",
    "                        'infogain' : infogain, \n",
    "                        'left_indices' : left_indices,\n",
    "                        'right_indices' : right_indices}\n",
    "    return(best)"
   ]
  },
  {
   "cell_type": "code",
   "execution_count": 4,
   "metadata": {
    "ExecuteTime": {
     "end_time": "2019-06-07T12:10:14.455886Z",
     "start_time": "2019-06-07T12:10:14.450868Z"
    }
   },
   "outputs": [],
   "source": [
    "def build_tree(x, y, max_depth): # np.inf as the default? Really? \n",
    "    \"\"\"\n",
    "    Recursive function that returns a decision tree as a series of nested dicts. \n",
    "    \"\"\"\n",
    "    \n",
    "    \n",
    "    # Check if either of the stopping conditions have been reached. If so generate a leaf node...\n",
    "    if max_depth==1 or (y==y[0]).all():\n",
    "        # Generate a leaf node...\n",
    "        classes, counts = np.unique(y, return_counts=True)\n",
    "        return {'leaf' : True, 'class' : classes[np.argmax(counts)]}\n",
    "    \n",
    "    else:\n",
    "        move = find_split(x, y)\n",
    "        \n",
    "        left = build_tree(x[move['left_indices'],:], y[move['left_indices']], max_depth - 1)     # recursive. \n",
    "        right = build_tree(x[move['right_indices'],:], y[move['right_indices']], max_depth - 1)\n",
    "        \n",
    "        return {'leaf' : False,\n",
    "                'feature' : move['feature'],\n",
    "                'split' : move['split'],\n",
    "                'infogain' : move['infogain'],\n",
    "                'left' : left,\n",
    "                'right' : right}"
   ]
  },
  {
   "cell_type": "code",
   "execution_count": 5,
   "metadata": {
    "ExecuteTime": {
     "end_time": "2019-06-07T12:10:14.752076Z",
     "start_time": "2019-06-07T12:10:14.748035Z"
    }
   },
   "outputs": [],
   "source": [
    "# This function is never actually called anywhere in the driver code. It is just here as an example to aid comprehension. \n",
    "def predict_one(tree, sample):                             \n",
    "    \"\"\"Does the prediction for a single data point\"\"\"\n",
    "    if tree['leaf'] == True:                                 # makes it a little more explicit. \n",
    "        return(tree['class'])\n",
    "    \n",
    "    else:\n",
    "        if sample[tree['feature']] <= tree['split']:          \n",
    "            return(predict_one(tree['left'], sample))\n",
    "        else:\n",
    "            return(predict_one(tree['right'], sample))"
   ]
  },
  {
   "cell_type": "code",
   "execution_count": 12,
   "metadata": {
    "ExecuteTime": {
     "end_time": "2019-06-07T12:10:50.185599Z",
     "start_time": "2019-06-07T12:10:50.179582Z"
    }
   },
   "outputs": [],
   "source": [
    "def predict(tree, samples):\n",
    "    # assuming samples is a two-dimensional np feature array. \n",
    "    \"\"\"Predicts class for every entry of a data matrix.\"\"\"\n",
    "    return_array = np.empty(samples.shape[0], dtype=int)\n",
    "    return_array.fill(-1)\n",
    "    indices = np.arange(samples.shape[0])\n",
    "    \n",
    "    def traverse(node, indices):   # Method to traverse a given decision tree. \n",
    "        nonlocal samples\n",
    "        nonlocal return_array\n",
    "        \n",
    "        if node['leaf']:\n",
    "            return_array[indices] = node['class']\n",
    "        \n",
    "        else:\n",
    "            going_left = samples[indices, node['feature']] <= node['split']\n",
    "            left_indices = indices[going_left]\n",
    "            right_indices = indices[np.logical_not(going_left)]\n",
    "            \n",
    "            if left_indices.shape[0] > 0:\n",
    "                traverse(node['left'], left_indices)\n",
    "                \n",
    "            if right_indices.shape[0] > 0:\n",
    "                traverse(node['right'], right_indices)\n",
    "    \n",
    "    traverse(tree, indices)\n",
    "    return(return_array)"
   ]
  },
  {
   "cell_type": "code",
   "execution_count": 13,
   "metadata": {
    "ExecuteTime": {
     "end_time": "2019-06-07T12:10:50.704073Z",
     "start_time": "2019-06-07T12:10:50.700114Z"
    }
   },
   "outputs": [],
   "source": [
    "def print_tree(tree, indent = 0):\n",
    "    \"\"\"Helper function for visualizing a tree. Mostly useful for debugging.\"\"\"\n",
    "    space = '  ' * indent\n",
    "    \n",
    "    if tree['leaf'] == False: \n",
    "        print('\\n')\n",
    "        print(space, '[feature %s <= %s]'     % (tree['feature'], tree['split']))\n",
    "        print_tree(tree['left'], indent + 1)\n",
    "        print('\\n')\n",
    "        print(space, '[%s > %s]'     % (tree['feature'], tree['split']))\n",
    "        print_tree(tree['right'], indent + 1)\n",
    "    elif tree['leaf'] == True: \n",
    "        print(space, 'predict %s' % tree['class'])                    \n"
   ]
  },
  {
   "cell_type": "markdown",
   "metadata": {},
   "source": [
    "### The Driver Code\n",
    "\n",
    "The driver code. The data we are going to be working from is breast-cancer data built in to the scikit-learn package. The data consists of 569 exemplars and 30 features with a single target variable (whether the tumor is malignant or benign), making it a binary classification problem. Additional information about the data set is posted at the bottom of the notebook for those curious. "
   ]
  },
  {
   "cell_type": "code",
   "execution_count": 14,
   "metadata": {
    "ExecuteTime": {
     "end_time": "2019-06-07T12:10:53.133145Z",
     "start_time": "2019-06-07T12:10:53.123164Z"
    }
   },
   "outputs": [],
   "source": [
    "# Getting the data. \n",
    "data_all = ds.load_breast_cancer()\n",
    "\n",
    "x = data_all.data               # 569 x 30\n",
    "y = data_all.target             # 569. Binary outcome. \n",
    "\n",
    "y_names = data_all.target_names \n",
    "feature_names = data_all.feature_names         # names. "
   ]
  },
  {
   "cell_type": "code",
   "execution_count": 15,
   "metadata": {
    "ExecuteTime": {
     "end_time": "2019-06-07T12:10:53.639839Z",
     "start_time": "2019-06-07T12:10:53.634815Z"
    }
   },
   "outputs": [
    {
     "name": "stdout",
     "output_type": "stream",
     "text": [
      "Training set size: 341\n",
      "Test set size: 228\n"
     ]
    }
   ],
   "source": [
    "split_point = int(x.shape[0] * 0.6)             # split is an int 60% the length of x. Rand better? \n",
    "\n",
    "# ALWAYS shuffle the data before the split, even if you don't think it will make a differnce. \n",
    "y = np.reshape(y, newshape= (len(y), 1))\n",
    "temp = np.concatenate((x, y), axis= 1)\n",
    "np.random.shuffle(temp)\n",
    "\n",
    "x = temp[:, 0:30]\n",
    "y = temp[:, 30]\n",
    "\n",
    "del temp\n",
    "\n",
    "x_train = x[:split_point,:]\n",
    "y_train = y[:split_point]\n",
    "\n",
    "x_test = x[split_point:,:]\n",
    "y_test = y[split_point:]\n",
    "\n",
    "print('Training set size:', x_train.shape[0])\n",
    "print('Test set size:', x_test.shape[0])"
   ]
  },
  {
   "cell_type": "markdown",
   "metadata": {},
   "source": [
    "### PCA\n",
    "\n",
    "Just for the sake of completeness, we run a PCA (Principal Component Analysis) to reduce the number of dimensions to 2 and then visualize the resulting distribution. If we had more data we would probably do regression with PCA, but we don't so we can't."
   ]
  },
  {
   "cell_type": "code",
   "execution_count": 16,
   "metadata": {
    "ExecuteTime": {
     "end_time": "2019-06-07T12:10:55.952917Z",
     "start_time": "2019-06-07T12:10:55.731512Z"
    }
   },
   "outputs": [
    {
     "data": {
      "image/png": "[encoded data removed]",
      "text/plain": [
       "<Figure size 432x288 with 1 Axes>"
      ]
     },
     "metadata": {},
     "output_type": "display_data"
    },
    {
     "data": {
      "image/png": "[encoded data removed]",
      "text/plain": [
       "<Figure size 432x288 with 1 Axes>"
      ]
     },
     "metadata": {},
     "output_type": "display_data"
    }
   ],
   "source": [
    "pca = PCA(n_components=2)\n",
    "x_scaled = preprocessing.scale(x[:,:-1]) # We remove the indexing and make sure all the features are in N(0,1)\n",
    "x_reduced = pca.fit_transform(x_scaled)\n",
    "\n",
    "\n",
    "plt.scatter(x_reduced[[i == True for i in y], 0], x_reduced[[i == True for i in y], 1], c = 'b', \n",
    "            marker=\"+\", label = 'Positive')                     \n",
    "plt.scatter(x_reduced[[i == False for i in y], 0], x_reduced[[i == False for i in y], 1], c = 'r', \n",
    "            marker=\".\", label = 'Negative')         \n",
    "plt.legend()\n",
    "plt.xlabel('Data after PCA')\n",
    "\n",
    "plt.show()\n",
    "\n",
    "\n",
    "\n",
    "# And again without scaling. \n",
    "x_reduced = pca.fit_transform(x[:,0:-1]) # Uncomment this to see the result without scaling\n",
    "plt.scatter(x_reduced[[i == True for i in y], 0], x_reduced[[i == True for i in y], 1], c = 'b', \n",
    "            marker=\"+\", label = 'Positive')                     \n",
    "plt.scatter(x_reduced[[i == False for i in y], 0], x_reduced[[i == False for i in y], 1], c = 'r', \n",
    "            marker=\".\", label = 'Negative')         \n",
    "plt.legend()\n",
    "plt.xlabel('Data after PCA (no scaling)')\n",
    "\n",
    "plt.show()\n",
    "\n",
    "\n",
    "\n",
    "    \n",
    "# TODO come back to this one... \n",
    "\n",
    "    \n",
    "    \n",
    "    \n",
    "# **************************************************************** 1 mark()"
   ]
  },
  {
   "cell_type": "markdown",
   "metadata": {},
   "source": [
    "### Making a tree"
   ]
  },
  {
   "cell_type": "code",
   "execution_count": 30,
   "metadata": {
    "ExecuteTime": {
     "end_time": "2019-06-07T12:15:03.308664Z",
     "start_time": "2019-06-07T12:14:53.740753Z"
    }
   },
   "outputs": [
    {
     "name": "stdout",
     "output_type": "stream",
     "text": [
      "accuracy in the training set: 99.41348973607037 %\n",
      "accuracy in the testing set: 90.35087719298247 %\n"
     ]
    }
   ],
   "source": [
    "tree = build_tree(x_train, y_train, max_depth = 5)            # 5 is a good number. \n",
    "predictions = predict(tree, x_train)\n",
    "accuracy = np.array([predictions == y_train]).sum()\n",
    "accuracy = (accuracy/len(y_train)) * 100                        #  normalization\n",
    "print('accuracy in the training set:', accuracy, '%') \n",
    "\n",
    "\n",
    "\n",
    "# again for the testing set: \n",
    "tree = build_tree(x_train, y_train, max_depth = 5)             \n",
    "predictions = predict(tree, x_test)\n",
    "accuracy = np.array([predictions == y_test]).sum()\n",
    "accuracy = (accuracy/len(y_test)) * 100                                    \n",
    "print('accuracy in the testing set:' , accuracy, '%')"
   ]
  },
  {
   "cell_type": "code",
   "execution_count": 23,
   "metadata": {
    "ExecuteTime": {
     "end_time": "2019-06-07T12:12:19.341044Z",
     "start_time": "2019-06-07T12:12:19.336024Z"
    }
   },
   "outputs": [
    {
     "name": "stdout",
     "output_type": "stream",
     "text": [
      "\n",
      "\n",
      " [feature 22 <= 117.2]\n",
      "\n",
      "\n",
      "   [feature 27 <= 0.1571]\n",
      "\n",
      "\n",
      "     [feature 1 <= 21.28]\n",
      "\n",
      "\n",
      "       [feature 20 <= 16.46]\n",
      "         predict 1.0\n",
      "\n",
      "\n",
      "       [20 > 16.46]\n",
      "\n",
      "\n",
      "         [feature 0 <= 13.8]\n",
      "           predict 0.0\n",
      "\n",
      "\n",
      "         [0 > 13.8]\n",
      "           predict 1.0\n",
      "\n",
      "\n",
      "     [1 > 21.28]\n",
      "\n",
      "\n",
      "       [feature 26 <= 0.1927]\n",
      "\n",
      "\n",
      "         [feature 0 <= 14.74]\n",
      "           predict 1.0\n",
      "\n",
      "\n",
      "         [0 > 14.74]\n",
      "           predict 0.0\n",
      "\n",
      "\n",
      "       [26 > 0.1927]\n",
      "\n",
      "\n",
      "         [feature 17 <= 0.01276]\n",
      "           predict 0.0\n",
      "\n",
      "\n",
      "         [17 > 0.01276]\n",
      "           predict 1.0\n",
      "\n",
      "\n",
      "   [27 > 0.1571]\n",
      "\n",
      "\n",
      "     [feature 13 <= 17.67]\n",
      "       predict 1.0\n",
      "\n",
      "\n",
      "     [13 > 17.67]\n",
      "       predict 0.0\n",
      "\n",
      "\n",
      " [22 > 117.2]\n",
      "\n",
      "\n",
      "   [feature 8 <= 0.122]\n",
      "     predict 1.0\n",
      "\n",
      "\n",
      "   [8 > 0.122]\n",
      "     predict 0.0\n"
     ]
    }
   ],
   "source": [
    "#printing a tree as well \n",
    "print_tree(tree)"
   ]
  },
  {
   "cell_type": "markdown",
   "metadata": {},
   "source": [
    "## Breast Cancer Wisconsin (Diagnostic) Database\n",
    "A description of the dataset used is provided here.\n",
    "\n",
    "Data Set Characteristics:\n",
    "    :Number of Instances: 569\n",
    "\n",
    "    :Number of Attributes: 30 numeric, predictive attributes and the class\n",
    "\n",
    "    :Attribute Information:\n",
    "        - radius (mean of distances from center to points on the perimeter)\n",
    "        - texture (standard deviation of gray-scale values)\n",
    "        - perimeter\n",
    "        - area\n",
    "        - smoothness (local variation in radius lengths)\n",
    "        - compactness (perimeter^2 / area - 1.0)\n",
    "        - concavity (severity of concave portions of the contour)\n",
    "        - concave points (number of concave portions of the contour)\n",
    "        - symmetry \n",
    "        - fractal dimension (\"coastline approximation\" - 1)\n",
    "\n",
    "        The mean, standard error, and \"worst\" or largest (mean of the three\n",
    "        largest values) of these features were computed for each image,\n",
    "        resulting in 30 features.  For instance, field 3 is Mean Radius, field\n",
    "        13 is Radius SE, field 23 is Worst Radius.\n",
    "\n",
    "        - target class:\n",
    "                - WDBC-Malignant\n",
    "                - WDBC-Benign\n",
    "\n",
    "    :Summary Statistics:\n",
    "\n",
    "    ===================================== ====== ======\n",
    "                                           Min    Max\n",
    "    ===================================== ====== ======\n",
    "    radius (mean):                        6.981  28.11\n",
    "    texture (mean):                       9.71   39.28\n",
    "    perimeter (mean):                     43.79  188.5\n",
    "    area (mean):                          143.5  2501.0\n",
    "    smoothness (mean):                    0.053  0.163\n",
    "    compactness (mean):                   0.019  0.345\n",
    "    concavity (mean):                     0.0    0.427\n",
    "    concave points (mean):                0.0    0.201\n",
    "    symmetry (mean):                      0.106  0.304\n",
    "    fractal dimension (mean):             0.05   0.097\n",
    "    radius (standard error):              0.112  2.873\n",
    "    texture (standard error):             0.36   4.885\n",
    "    perimeter (standard error):           0.757  21.98\n",
    "    area (standard error):                6.802  542.2\n",
    "    smoothness (standard error):          0.002  0.031\n",
    "    compactness (standard error):         0.002  0.135\n",
    "    concavity (standard error):           0.0    0.396\n",
    "    concave points (standard error):      0.0    0.053\n",
    "    symmetry (standard error):            0.008  0.079\n",
    "    fractal dimension (standard error):   0.001  0.03\n",
    "    radius (worst):                       7.93   36.04\n",
    "    texture (worst):                      12.02  49.54\n",
    "    perimeter (worst):                    50.41  251.2\n",
    "    area (worst):                         185.2  4254.0\n",
    "    smoothness (worst):                   0.071  0.223\n",
    "    compactness (worst):                  0.027  1.058\n",
    "    concavity (worst):                    0.0    1.252\n",
    "    concave points (worst):               0.0    0.291\n",
    "    symmetry (worst):                     0.156  0.664\n",
    "    fractal dimension (worst):            0.055  0.208\n",
    "    ===================================== ====== ======\n",
    "\n",
    "    :Missing Attribute Values: None\n",
    "\n",
    "    :Class Distribution: 212 - Malignant, 357 - Benign\n",
    "\n",
    "    :Creator:  Dr. William H. Wolberg, W. Nick Street, Olvi L. Mangasarian\n",
    "\n",
    "    :Donor: Nick Street\n",
    "\n",
    "    :Date: November, 1995\n",
    "\n",
    "This is a copy of the UCI ML Breast Cancer Wisconsin (Diagnostic) dataset from https://goo.gl/U2Uwz2\n",
    "\n",
    "Features are computed from a digitized image of a fine needle\n",
    "aspirate (FNA) of a breast mass. They describe\n",
    "characteristics of the cell nuclei present in the image.\n",
    "\n",
    "Separating plane described above was obtained using\n",
    "Multisurface Method-Tree (MSM-T) [K. P. Bennett, \"Decision Tree\n",
    "Construction Via Linear Programming.\" Proceedings of the 4th\n",
    "Midwest Artificial Intelligence and Cognitive Science Society,\n",
    "pp. 97-101, 1992], a classification method which uses linear\n",
    "programming to construct a decision tree.  Relevant features\n",
    "were selected using an exhaustive search in the space of 1-4\n",
    "features and 1-3 separating planes.\n",
    "\n",
    "The actual linear program used to obtain the separating plane\n",
    "in the 3-dimensional space is that described in:\n",
    "[K. P. Bennett and O. L. Mangasarian: \"Robust Linear\n",
    "Programming Discrimination of Two Linearly Inseparable Sets\",\n",
    "Optimization Methods and Software 1, 1992, 23-34].\n",
    "\n",
    "This database is also available through the UW CS ftp server:\n",
    "\n",
    "```\n",
    "ftp ftp.cs.wisc.edu\n",
    "cd math-prog/cpo-dataset/machine-learn/WDBC/\n",
    "```\n",
    "\n",
    "### References\n",
    "   - W.N. Street, W.H. Wolberg and O.L. Mangasarian. Nuclear feature extraction \n",
    "     for breast tumor diagnosis. IS&T/SPIE 1993 International Symposium on \n",
    "     Electronic Imaging: Science and Technology, volume 1905, pages 861-870,\n",
    "     San Jose, CA, 1993.\n",
    "   - O.L. Mangasarian, W.N. Street and W.H. Wolberg. Breast cancer diagnosis and \n",
    "     prognosis via linear programming. Operations Research, 43(4), pages 570-577, \n",
    "     July-August 1995.\n",
    "   - W.H. Wolberg, W.N. Street, and O.L. Mangasarian. Machine learning techniques\n",
    "     to diagnose breast cancer from fine-needle aspirates. Cancer Letters 77 (1994) \n",
    "     163-171."
   ]
  },
  {
   "cell_type": "markdown",
   "metadata": {},
   "source": [
    "### Separator ----------------------------------------------------------------------------------------------------------------"
   ]
  },
  {
   "cell_type": "markdown",
   "metadata": {},
   "source": [
    "# Lab 2:  Decision trees\n",
    "The following exercise takes you through for implementing decision trees. It involves data manipulation/visualisation, hyperparameter selection, recursion, and building a prediction model. We will use a binary classification problem: Breast cancer diagnosis."
   ]
  },
  {
   "cell_type": "markdown",
   "metadata": {},
   "source": [
    "## Marking and Submission\n",
    "\n",
    "These lab exercises are marked, and contribute to your final grade. For this lab exercise there are 6 places where you are expected to enter your own code, for 15 marks overall. Every place you have to add code is indicated by\n",
    "\n",
    "`# **************************************************************** n marks`\n",
    "\n",
    "with instructions above the code block.\n",
    "\n",
    "Please submit your completed workbook using Moodle before 5pm on the 31st October 2018. The workbook you submit must be an `.ipynb` file, which is saved into the directory you're running Jupyter; alternatively you can download it from the menu above using `File -> Download As -> Notebook (.ipynb)`. Remember to save your work regularly (Save and checkpoint in the File menu, the icon of a floppy disk, or Ctrl-S); the version you submit should have all code blocks showing the results (if any) of execution below them. You will normally receive feedback within a week.\n"
   ]
  },
  {
   "cell_type": "code",
   "execution_count": null,
   "metadata": {},
   "outputs": [],
   "source": [
    "%matplotlib inline\n",
    "import numpy as np\n",
    "\n",
    "from sklearn import datasets as ds\n",
    "from sklearn.decomposition import PCA\n",
    "from sklearn import preprocessing\n",
    "\n",
    "import matplotlib.pyplot as plt"
   ]
  },
  {
   "cell_type": "markdown",
   "metadata": {},
   "source": [
    "## Import data\n",
    "The first step of any machine learning problem is to load the data. In this tutorial you don't have to download any dataset since we are using a built-in dataset provided by the scikit learn package."
   ]
  },
  {
   "cell_type": "code",
   "execution_count": null,
   "metadata": {},
   "outputs": [],
   "source": [
    "data_all = ds.load_breast_cancer()\n",
    "\n",
    "x = data_all.data               # 569 x 30\n",
    "y = data_all.target             # 569. Binary outcome. \n",
    "\n",
    "y_names = data_all.target_names \n",
    "feature_names = data_all.feature_names         # names. "
   ]
  },
  {
   "cell_type": "markdown",
   "metadata": {},
   "source": [
    "## Breast Cancer Wisconsin (Diagnostic) Database\n",
    "A description of the dataset used is provided here.\n",
    "\n",
    "Data Set Characteristics:\n",
    "    :Number of Instances: 569\n",
    "\n",
    "    :Number of Attributes: 30 numeric, predictive attributes and the class\n",
    "\n",
    "    :Attribute Information:\n",
    "        - radius (mean of distances from center to points on the perimeter)\n",
    "        - texture (standard deviation of gray-scale values)\n",
    "        - perimeter\n",
    "        - area\n",
    "        - smoothness (local variation in radius lengths)\n",
    "        - compactness (perimeter^2 / area - 1.0)\n",
    "        - concavity (severity of concave portions of the contour)\n",
    "        - concave points (number of concave portions of the contour)\n",
    "        - symmetry \n",
    "        - fractal dimension (\"coastline approximation\" - 1)\n",
    "\n",
    "        The mean, standard error, and \"worst\" or largest (mean of the three\n",
    "        largest values) of these features were computed for each image,\n",
    "        resulting in 30 features.  For instance, field 3 is Mean Radius, field\n",
    "        13 is Radius SE, field 23 is Worst Radius.\n",
    "\n",
    "        - target class:\n",
    "                - WDBC-Malignant\n",
    "                - WDBC-Benign\n",
    "\n",
    "    :Summary Statistics:\n",
    "\n",
    "    ===================================== ====== ======\n",
    "                                           Min    Max\n",
    "    ===================================== ====== ======\n",
    "    radius (mean):                        6.981  28.11\n",
    "    texture (mean):                       9.71   39.28\n",
    "    perimeter (mean):                     43.79  188.5\n",
    "    area (mean):                          143.5  2501.0\n",
    "    smoothness (mean):                    0.053  0.163\n",
    "    compactness (mean):                   0.019  0.345\n",
    "    concavity (mean):                     0.0    0.427\n",
    "    concave points (mean):                0.0    0.201\n",
    "    symmetry (mean):                      0.106  0.304\n",
    "    fractal dimension (mean):             0.05   0.097\n",
    "    radius (standard error):              0.112  2.873\n",
    "    texture (standard error):             0.36   4.885\n",
    "    perimeter (standard error):           0.757  21.98\n",
    "    area (standard error):                6.802  542.2\n",
    "    smoothness (standard error):          0.002  0.031\n",
    "    compactness (standard error):         0.002  0.135\n",
    "    concavity (standard error):           0.0    0.396\n",
    "    concave points (standard error):      0.0    0.053\n",
    "    symmetry (standard error):            0.008  0.079\n",
    "    fractal dimension (standard error):   0.001  0.03\n",
    "    radius (worst):                       7.93   36.04\n",
    "    texture (worst):                      12.02  49.54\n",
    "    perimeter (worst):                    50.41  251.2\n",
    "    area (worst):                         185.2  4254.0\n",
    "    smoothness (worst):                   0.071  0.223\n",
    "    compactness (worst):                  0.027  1.058\n",
    "    concavity (worst):                    0.0    1.252\n",
    "    concave points (worst):               0.0    0.291\n",
    "    symmetry (worst):                     0.156  0.664\n",
    "    fractal dimension (worst):            0.055  0.208\n",
    "    ===================================== ====== ======\n",
    "\n",
    "    :Missing Attribute Values: None\n",
    "\n",
    "    :Class Distribution: 212 - Malignant, 357 - Benign\n",
    "\n",
    "    :Creator:  Dr. William H. Wolberg, W. Nick Street, Olvi L. Mangasarian\n",
    "\n",
    "    :Donor: Nick Street\n",
    "\n",
    "    :Date: November, 1995\n",
    "\n",
    "This is a copy of the UCI ML Breast Cancer Wisconsin (Diagnostic) dataset from https://goo.gl/U2Uwz2\n",
    "\n",
    "Features are computed from a digitized image of a fine needle\n",
    "aspirate (FNA) of a breast mass. They describe\n",
    "characteristics of the cell nuclei present in the image.\n",
    "\n",
    "Separating plane described above was obtained using\n",
    "Multisurface Method-Tree (MSM-T) [K. P. Bennett, \"Decision Tree\n",
    "Construction Via Linear Programming.\" Proceedings of the 4th\n",
    "Midwest Artificial Intelligence and Cognitive Science Society,\n",
    "pp. 97-101, 1992], a classification method which uses linear\n",
    "programming to construct a decision tree.  Relevant features\n",
    "were selected using an exhaustive search in the space of 1-4\n",
    "features and 1-3 separating planes.\n",
    "\n",
    "The actual linear program used to obtain the separating plane\n",
    "in the 3-dimensional space is that described in:\n",
    "[K. P. Bennett and O. L. Mangasarian: \"Robust Linear\n",
    "Programming Discrimination of Two Linearly Inseparable Sets\",\n",
    "Optimization Methods and Software 1, 1992, 23-34].\n",
    "\n",
    "This database is also available through the UW CS ftp server:\n",
    "\n",
    "```\n",
    "ftp ftp.cs.wisc.edu\n",
    "cd math-prog/cpo-dataset/machine-learn/WDBC/\n",
    "```\n",
    "\n",
    "### References\n",
    "   - W.N. Street, W.H. Wolberg and O.L. Mangasarian. Nuclear feature extraction \n",
    "     for breast tumor diagnosis. IS&T/SPIE 1993 International Symposium on \n",
    "     Electronic Imaging: Science and Technology, volume 1905, pages 861-870,\n",
    "     San Jose, CA, 1993.\n",
    "   - O.L. Mangasarian, W.N. Street and W.H. Wolberg. Breast cancer diagnosis and \n",
    "     prognosis via linear programming. Operations Research, 43(4), pages 570-577, \n",
    "     July-August 1995.\n",
    "   - W.H. Wolberg, W.N. Street, and O.L. Mangasarian. Machine learning techniques\n",
    "     to diagnose breast cancer from fine-needle aspirates. Cancer Letters 77 (1994) \n",
    "     163-171.\n"
   ]
  }
 ],
 "metadata": {
  "kernelspec": {
   "display_name": "Python 3",
   "language": "python",
   "name": "python3"
  },
  "language_info": {
   "codemirror_mode": {
    "name": "ipython",
    "version": 3
   },
   "file_extension": ".py",
   "mimetype": "text/x-python",
   "name": "python",
   "nbconvert_exporter": "python",
   "pygments_lexer": "ipython3",
   "version": "3.6.5"
  },
  "varInspector": {
   "cols": {
    "lenName": 16,
    "lenType": 16,
    "lenVar": 40
   },
   "kernels_config": {
    "python": {
     "delete_cmd_postfix": "",
     "delete_cmd_prefix": "del ",
     "library": "var_list.py",
     "varRefreshCmd": "print(var_dic_list())"
    },
    "r": {
     "delete_cmd_postfix": ") ",
     "delete_cmd_prefix": "rm(",
     "library": "var_list.r",
     "varRefreshCmd": "cat(var_dic_list()) "
    }
   },
   "position": {
    "height": "437px",
    "left": "690px",
    "right": "20px",
    "top": "127px",
    "width": "692px"
   },
   "types_to_exclude": [
    "module",
    "function",
    "builtin_function_or_method",
    "instance",
    "_Feature"
   ],
   "window_display": false
  }
 },
 "nbformat": 4,
 "nbformat_minor": 2
}
